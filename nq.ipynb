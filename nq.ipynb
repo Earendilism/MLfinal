{
 "cells": [
  {
   "cell_type": "code",
   "execution_count": 1,
   "metadata": {},
   "outputs": [],
   "source": [
    "import numpy as np"
   ]
  },
  {
   "cell_type": "code",
   "execution_count": 2,
   "metadata": {},
   "outputs": [],
   "source": [
    "n = int(input(\"please input number of queens?\\n\"))"
   ]
  },
  {
   "cell_type": "code",
   "execution_count": 3,
   "metadata": {},
   "outputs": [],
   "source": [
    "def canplace(vector, i):\n",
    "    m = 1\n",
    "    while i != m - 1 or i == 0:\n",
    "        if i == 0:\n",
    "            return True\n",
    "        else:\n",
    "            expe_a = vector[i, 0] == vector[i - m, 0]\n",
    "            expe_b = abs(m) == abs(vector[i, 0] - vector[i - m, 0])\n",
    "            if expe_a or expe_b:\n",
    "                return False\n",
    "        m += 1\n",
    "    return True"
   ]
  },
  {
   "cell_type": "code",
   "execution_count": 4,
   "metadata": {},
   "outputs": [],
   "source": [
    "def fpf(x, n):\n",
    "    return np.intc(np.floor(x) - n * np.floor(x / (n)))"
   ]
  },
  {
   "cell_type": "code",
   "execution_count": 5,
   "metadata": {},
   "outputs": [
    {
     "data": {
      "text/plain": [
       "0"
      ]
     },
     "execution_count": 5,
     "metadata": {},
     "output_type": "execute_result"
    }
   ],
   "source": [
    "fpf(8, 8)"
   ]
  },
  {
   "cell_type": "code",
   "execution_count": 23,
   "metadata": {},
   "outputs": [
    {
     "data": {
      "text/plain": [
       "7.99"
      ]
     },
     "execution_count": 23,
     "metadata": {},
     "output_type": "execute_result"
    }
   ],
   "source": [
    "8 - 10**-2"
   ]
  },
  {
   "cell_type": "code",
   "execution_count": 104,
   "metadata": {},
   "outputs": [],
   "source": [
    "zzz[0, 0] = 2"
   ]
  },
  {
   "cell_type": "code",
   "execution_count": 105,
   "metadata": {},
   "outputs": [
    {
     "data": {
      "text/plain": [
       "True"
      ]
     },
     "execution_count": 105,
     "metadata": {},
     "output_type": "execute_result"
    }
   ],
   "source": [
    "canplace(zzz, 0)"
   ]
  },
  {
   "cell_type": "code",
   "execution_count": 28,
   "metadata": {},
   "outputs": [
    {
     "data": {
      "text/plain": [
       "array([5., 6., 7., 0., 1., 2., 3., 4., 5., 6., 7., 0., 1., 2., 3., 4., 5.,\n",
       "       6., 7., 0., 1., 2., 3., 4., 5., 6., 7., 8., 1., 2., 3., 4., 5., 6.,\n",
       "       7., 8., 1., 2.])"
      ]
     },
     "execution_count": 28,
     "metadata": {},
     "output_type": "execute_result"
    }
   ],
   "source": [
    "y"
   ]
  },
  {
   "cell_type": "code",
   "execution_count": 7,
   "metadata": {},
   "outputs": [
    {
     "data": {
      "image/png": "[encoded data removed]",
      "text/plain": [
       "<Figure size 640x480 with 1 Axes>"
      ]
     },
     "metadata": {},
     "output_type": "display_data"
    }
   ],
   "source": [
    "import matplotlib.pyplot as plt\n",
    "\n",
    "x = np.arange(-19, 19, 1)\n",
    "y = fun(x, n)\n",
    "plt.plot(x, y)\n",
    "plt.show()"
   ]
  },
  {
   "cell_type": "code",
   "execution_count": 81,
   "metadata": {},
   "outputs": [],
   "source": [
    "def build_array(dims, reduction_solution):\n",
    "    reduction_solution = reduction_solution.astype(int)\n",
    "    i = 0\n",
    "    j = 0\n",
    "    newdims = dims - 1\n",
    "    while dims > i:\n",
    "        if canplace(reduction_solution, fpf(i, dims)):\n",
    "            i += 1\n",
    "            j = 0\n",
    "        elif j >= newdims and reduction_solution[i, 0] == newdims:\n",
    "            a = np.count_nonzero(reduction_solution[i - 1:, 0] == newdims)\n",
    "            reduction_solution[\n",
    "                np.nonzero(reduction_solution[i - 1:, 0] == newdims)[0] + i - 1\n",
    "            ] = 0\n",
    "            i -= a\n",
    "            reduction_solution[i, 0] = fpf(reduction_solution[i, 0] + 1, dims)\n",
    "        else:\n",
    "            j += 1\n",
    "            reduction_solution[i, 0] = fpf(reduction_solution[i, 0] + 1, dims)\n",
    "    return reduction_solution"
   ]
  },
  {
   "cell_type": "code",
   "execution_count": 82,
   "metadata": {},
   "outputs": [],
   "source": [
    "r = np.array([[7.0], [5.0], [8.0], [6.0], [3.0], [7.0], [2.0], [4.0]])\n",
    "aaa = np.array([[2.0], [6.0], [9.0], [7.0], [4.0], [8.0], [3.0], [5.0]])\n",
    "bbb = np.array([[5.0], [5.0], [8.0], [6.0], [3.0], [7.0], [2.0], [4.0]])\n",
    "zzz = np.zeros((8, 1))"
   ]
  },
  {
   "cell_type": "code",
   "execution_count": 44,
   "metadata": {},
   "outputs": [
    {
     "data": {
      "text/plain": [
       "array([[4.],\n",
       "       [4.],\n",
       "       [7.],\n",
       "       [5.],\n",
       "       [2.],\n",
       "       [6.],\n",
       "       [1.],\n",
       "       [3.]])"
      ]
     },
     "execution_count": 44,
     "metadata": {},
     "output_type": "execute_result"
    }
   ],
   "source": [
    "bbb-1"
   ]
  },
  {
   "cell_type": "code",
   "execution_count": 83,
   "metadata": {},
   "outputs": [],
   "source": [
    "arr = build_array(n, reduction_solution=zzz)"
   ]
  },
  {
   "cell_type": "code",
   "execution_count": 84,
   "metadata": {},
   "outputs": [
    {
     "data": {
      "text/plain": [
       "array([[4],\n",
       "       [6],\n",
       "       [1],\n",
       "       [3],\n",
       "       [7],\n",
       "       [0],\n",
       "       [2],\n",
       "       [5]])"
      ]
     },
     "execution_count": 84,
     "metadata": {},
     "output_type": "execute_result"
    }
   ],
   "source": [
    "build_array(n, bbb - 1)"
   ]
  },
  {
   "cell_type": "code",
   "execution_count": 42,
   "metadata": {},
   "outputs": [
    {
     "data": {
      "text/plain": [
       "array([[0.],\n",
       "       [4.],\n",
       "       [7.],\n",
       "       [5.],\n",
       "       [2.],\n",
       "       [6.],\n",
       "       [1.],\n",
       "       [3.]])"
      ]
     },
     "execution_count": 42,
     "metadata": {},
     "output_type": "execute_result"
    }
   ],
   "source": [
    "arr"
   ]
  },
  {
   "cell_type": "code",
   "execution_count": null,
   "metadata": {},
   "outputs": [],
   "source": []
  },
  {
   "cell_type": "code",
   "execution_count": 106,
   "metadata": {},
   "outputs": [],
   "source": [
    "def alltheat(dims):\n",
    "    reduction_solution = np.zeros((dims, 1))\n",
    "    arr = build_array(dims, reduction_solution)\n",
    "\n",
    "    for i in range(dims):\n",
    "        for j_1 in range(dims):\n",
    "            for j_2 in range(dims):\n",
    "                for j_3 in range(dims):\n",
    "                    for j_4 in range(dims):\n",
    "                        for j_5 in range(dims):\n",
    "                            for j_6 in range(dims):\n",
    "                                for j_7 in range(dims):\n",
    "                                    for j_8 in range(dims):\n",
    "                                        arr[0, 0] = fpf(arr[i, 0] + j_1, dims)\n",
    "                                        arr[1, 0] = fpf(arr[i, 0] + j_2, dims)\n",
    "                                        arr[2, 0] = fpf(arr[i, 0] + j_3, dims)\n",
    "                                        arr[3, 0] = fpf(arr[i, 0] + j_4, dims)\n",
    "                                        arr[4, 0] = fpf(arr[i, 0] + j_5, dims)\n",
    "                                        arr[5, 0] = fpf(arr[i, 0] + j_6, dims)\n",
    "                                        arr[6, 0] = fpf(arr[i, 0] + j_7, dims)\n",
    "                                        arr[7, 0] = fpf(arr[i, 0] + j_8, dims)\n",
    "                                        arr1 = build_array(\n",
    "                                            dims, arr[:, 0].reshape(-1, 1))\n",
    "                                        arr = np.hstack((arr, arr1))\n",
    "    return arr"
   ]
  },
  {
   "cell_type": "code",
   "execution_count": 107,
   "metadata": {},
   "outputs": [
    {
     "ename": "KeyboardInterrupt",
     "evalue": "",
     "output_type": "error",
     "traceback": [
      "\u001b[0;31m---------------------------------------------------------------------------\u001b[0m",
      "\u001b[0;31mKeyboardInterrupt\u001b[0m                         Traceback (most recent call last)",
      "\u001b[1;32m/home/hamze/personal/ML/nq.ipynb Cell 19\u001b[0m line \u001b[0;36m1\n\u001b[0;32m----> <a href='vscode-notebook-cell://wsl%2Bubuntu/home/hamze/personal/ML/nq.ipynb#X12sdnNjb2RlLXJlbW90ZQ%3D%3D?line=0'>1</a>\u001b[0m aaaa \u001b[39m=\u001b[39m alltheat(n)\n",
      "\u001b[1;32m/home/hamze/personal/ML/nq.ipynb Cell 19\u001b[0m line \u001b[0;36m2\n\u001b[1;32m     <a href='vscode-notebook-cell://wsl%2Bubuntu/home/hamze/personal/ML/nq.ipynb#X12sdnNjb2RlLXJlbW90ZQ%3D%3D?line=19'>20</a>\u001b[0m                                     arr[\u001b[39m6\u001b[39m, \u001b[39m0\u001b[39m] \u001b[39m=\u001b[39m fpf(arr[i, \u001b[39m0\u001b[39m] \u001b[39m+\u001b[39m j_7, dims)\n\u001b[1;32m     <a href='vscode-notebook-cell://wsl%2Bubuntu/home/hamze/personal/ML/nq.ipynb#X12sdnNjb2RlLXJlbW90ZQ%3D%3D?line=20'>21</a>\u001b[0m                                     arr[\u001b[39m7\u001b[39m, \u001b[39m0\u001b[39m] \u001b[39m=\u001b[39m fpf(arr[i, \u001b[39m0\u001b[39m] \u001b[39m+\u001b[39m j_8, dims)\n\u001b[0;32m---> <a href='vscode-notebook-cell://wsl%2Bubuntu/home/hamze/personal/ML/nq.ipynb#X12sdnNjb2RlLXJlbW90ZQ%3D%3D?line=21'>22</a>\u001b[0m                                     arr1 \u001b[39m=\u001b[39m build_array(\n\u001b[1;32m     <a href='vscode-notebook-cell://wsl%2Bubuntu/home/hamze/personal/ML/nq.ipynb#X12sdnNjb2RlLXJlbW90ZQ%3D%3D?line=22'>23</a>\u001b[0m                                         dims, arr[:, \u001b[39m0\u001b[39;49m]\u001b[39m.\u001b[39;49mreshape(\u001b[39m-\u001b[39;49m\u001b[39m1\u001b[39;49m, \u001b[39m1\u001b[39;49m))\n\u001b[1;32m     <a href='vscode-notebook-cell://wsl%2Bubuntu/home/hamze/personal/ML/nq.ipynb#X12sdnNjb2RlLXJlbW90ZQ%3D%3D?line=23'>24</a>\u001b[0m                                     arr \u001b[39m=\u001b[39m np\u001b[39m.\u001b[39mhstack((arr, arr1))\n\u001b[1;32m     <a href='vscode-notebook-cell://wsl%2Bubuntu/home/hamze/personal/ML/nq.ipynb#X12sdnNjb2RlLXJlbW90ZQ%3D%3D?line=24'>25</a>\u001b[0m \u001b[39mreturn\u001b[39;00m arr\n",
      "\u001b[1;32m/home/hamze/personal/ML/nq.ipynb Cell 19\u001b[0m line \u001b[0;36m6\n\u001b[1;32m      <a href='vscode-notebook-cell://wsl%2Bubuntu/home/hamze/personal/ML/nq.ipynb#X12sdnNjb2RlLXJlbW90ZQ%3D%3D?line=3'>4</a>\u001b[0m j \u001b[39m=\u001b[39m \u001b[39m0\u001b[39m\n\u001b[1;32m      <a href='vscode-notebook-cell://wsl%2Bubuntu/home/hamze/personal/ML/nq.ipynb#X12sdnNjb2RlLXJlbW90ZQ%3D%3D?line=4'>5</a>\u001b[0m newdims \u001b[39m=\u001b[39m dims \u001b[39m-\u001b[39m \u001b[39m1\u001b[39m\n\u001b[0;32m----> <a href='vscode-notebook-cell://wsl%2Bubuntu/home/hamze/personal/ML/nq.ipynb#X12sdnNjb2RlLXJlbW90ZQ%3D%3D?line=5'>6</a>\u001b[0m \u001b[39mwhile\u001b[39;00m dims \u001b[39m>\u001b[39m i:\n\u001b[1;32m      <a href='vscode-notebook-cell://wsl%2Bubuntu/home/hamze/personal/ML/nq.ipynb#X12sdnNjb2RlLXJlbW90ZQ%3D%3D?line=6'>7</a>\u001b[0m     \u001b[39mif\u001b[39;00m canplace(reduction_solution, fpf(i, dims)):\n\u001b[1;32m      <a href='vscode-notebook-cell://wsl%2Bubuntu/home/hamze/personal/ML/nq.ipynb#X12sdnNjb2RlLXJlbW90ZQ%3D%3D?line=7'>8</a>\u001b[0m         i \u001b[39m+\u001b[39m\u001b[39m=\u001b[39m \u001b[39m1\u001b[39m\n",
      "\u001b[0;31mKeyboardInterrupt\u001b[0m: "
     ]
    }
   ],
   "source": [
    "aaaa = alltheat(n)"
   ]
  },
  {
   "cell_type": "code",
   "execution_count": 101,
   "metadata": {},
   "outputs": [
    {
     "data": {
      "text/plain": [
       "(8, 513)"
      ]
     },
     "execution_count": 101,
     "metadata": {},
     "output_type": "execute_result"
    }
   ],
   "source": [
    "aaaa.shape"
   ]
  },
  {
   "cell_type": "code",
   "execution_count": 57,
   "metadata": {},
   "outputs": [
    {
     "data": {
      "text/plain": [
       "array([[4.],\n",
       "       [6.],\n",
       "       [0.],\n",
       "       [2.],\n",
       "       [7.],\n",
       "       [5.],\n",
       "       [3.],\n",
       "       [1.]])"
      ]
     },
     "execution_count": 57,
     "metadata": {},
     "output_type": "execute_result"
    }
   ],
   "source": [
    "aaaa[:, 0].reshape(-1, 1)"
   ]
  },
  {
   "cell_type": "code",
   "execution_count": 73,
   "metadata": {},
   "outputs": [
    {
     "data": {
      "text/plain": [
       "513"
      ]
     },
     "execution_count": 73,
     "metadata": {},
     "output_type": "execute_result"
    }
   ],
   "source": [
    "aaaa.shape[1]"
   ]
  },
  {
   "cell_type": "code",
   "execution_count": 74,
   "metadata": {},
   "outputs": [],
   "source": [
    "for i in range(aaaa.shape[1]):\n",
    "    if np.all((aaaa[:, i].reshape(-1, 1) ==\n",
    "               build_array(n, aaaa[:, i].reshape(-1, 1))).T) == False:\n",
    "        print(\"ridi\")"
   ]
  },
  {
   "cell_type": "code",
   "execution_count": 66,
   "metadata": {},
   "outputs": [],
   "source": [
    "import pandas as pd"
   ]
  },
  {
   "cell_type": "code",
   "execution_count": null,
   "metadata": {},
   "outputs": [],
   "source": [
    "aaaa"
   ]
  },
  {
   "cell_type": "code",
   "execution_count": 103,
   "metadata": {},
   "outputs": [],
   "source": [
    "df = pd.DataFrame(aaaa)"
   ]
  },
  {
   "cell_type": "code",
   "execution_count": 95,
   "metadata": {},
   "outputs": [
    {
     "data": {
      "text/plain": [
       "0      False\n",
       "1      False\n",
       "2       True\n",
       "3       True\n",
       "4       True\n",
       "       ...  \n",
       "508     True\n",
       "509     True\n",
       "510     True\n",
       "511     True\n",
       "512     True\n",
       "Length: 513, dtype: bool"
      ]
     },
     "execution_count": 95,
     "metadata": {},
     "output_type": "execute_result"
    }
   ],
   "source": [
    "df.T.duplicated()"
   ]
  },
  {
   "cell_type": "code",
   "execution_count": 104,
   "metadata": {},
   "outputs": [],
   "source": [
    "df = df.loc[:, ~df.T.duplicated()].copy()"
   ]
  },
  {
   "cell_type": "code",
   "execution_count": 105,
   "metadata": {},
   "outputs": [
    {
     "data": {
      "text/plain": [
       "(8, 37)"
      ]
     },
     "execution_count": 105,
     "metadata": {},
     "output_type": "execute_result"
    }
   ],
   "source": [
    "df.shape"
   ]
  },
  {
   "cell_type": "code",
   "execution_count": 53,
   "metadata": {},
   "outputs": [
    {
     "data": {
      "text/plain": [
       "16777216"
      ]
     },
     "execution_count": 53,
     "metadata": {},
     "output_type": "execute_result"
    }
   ],
   "source": [
    "8**8"
   ]
  },
  {
   "cell_type": "code",
   "execution_count": null,
   "metadata": {},
   "outputs": [],
   "source": [
    "build_array(n, bbb)"
   ]
  },
  {
   "cell_type": "code",
   "execution_count": null,
   "metadata": {},
   "outputs": [],
   "source": [
    "any([0, 0, 0, 0])"
   ]
  },
  {
   "cell_type": "code",
   "execution_count": null,
   "metadata": {},
   "outputs": [],
   "source": []
  },
  {
   "cell_type": "code",
   "execution_count": null,
   "metadata": {},
   "outputs": [],
   "source": [
    "aaa[:, 0]"
   ]
  },
  {
   "cell_type": "code",
   "execution_count": null,
   "metadata": {},
   "outputs": [],
   "source": [
    "h.T"
   ]
  },
  {
   "cell_type": "code",
   "execution_count": null,
   "metadata": {},
   "outputs": [],
   "source": [
    "aaa = np.append(aaa, bbb, axis=1)"
   ]
  },
  {
   "cell_type": "code",
   "execution_count": null,
   "metadata": {},
   "outputs": [],
   "source": [
    "aaa"
   ]
  },
  {
   "cell_type": "code",
   "execution_count": null,
   "metadata": {},
   "outputs": [],
   "source": [
    "a = np.array([1, 3, 5, 7, 6]).reshape(-1, 1)"
   ]
  },
  {
   "cell_type": "code",
   "execution_count": null,
   "metadata": {},
   "outputs": [],
   "source": [
    "a"
   ]
  },
  {
   "cell_type": "code",
   "execution_count": null,
   "metadata": {},
   "outputs": [],
   "source": [
    "CanPlace(a, 4)"
   ]
  }
 ],
 "metadata": {
  "kernelspec": {
   "display_name": "TensorFlow_pypi",
   "language": "python",
   "name": "python3"
  },
  "language_info": {
   "codemirror_mode": {
    "name": "ipython",
    "version": 3
   },
   "file_extension": ".py",
   "mimetype": "text/x-python",
   "name": "python",
   "nbconvert_exporter": "python",
   "pygments_lexer": "ipython3",
   "version": "3.11.6"
  }
 },
 "nbformat": 4,
 "nbformat_minor": 2
}
